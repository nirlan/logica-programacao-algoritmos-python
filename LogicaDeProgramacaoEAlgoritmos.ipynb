{
  "nbformat": 4,
  "nbformat_minor": 0,
  "metadata": {
    "colab": {
      "name": "LogicaDeProgramacaoEAlgoritmos.ipynb",
      "provenance": [],
      "collapsed_sections": [
        "hoHlIlCyZKQ-",
        "GP8kRE_BjCPA"
      ],
      "toc_visible": true,
      "authorship_tag": "ABX9TyN1t+/3yogf7CEi8N8YB/2f",
      "include_colab_link": true
    },
    "kernelspec": {
      "name": "python3",
      "display_name": "Python 3"
    },
    "language_info": {
      "name": "python"
    }
  },
  "cells": [
    {
      "cell_type": "markdown",
      "metadata": {
        "id": "view-in-github",
        "colab_type": "text"
      },
      "source": [
        "<a href=\"https://colab.research.google.com/github/nirlan/logica-programacao-algoritmos-python/blob/main/LogicaDeProgramacaoEAlgoritmos.ipynb\" target=\"_parent\"><img src=\"https://colab.research.google.com/assets/colab-badge.svg\" alt=\"Open In Colab\"/></a>"
      ]
    },
    {
      "cell_type": "markdown",
      "metadata": {
        "id": "d5i-UkYcXQ4E"
      },
      "source": [
        "# **AULA 1**"
      ]
    },
    {
      "cell_type": "markdown",
      "metadata": {
        "id": "gt-eBgYBg1xw"
      },
      "source": [
        "# 1. O CICLO DE PROCESSAMENTO DE DADOS"
      ]
    },
    {
      "cell_type": "markdown",
      "metadata": {
        "id": "c3kwadJfAS5d"
      },
      "source": [
        "Função print"
      ]
    },
    {
      "cell_type": "code",
      "metadata": {
        "colab": {
          "base_uri": "https://localhost:8080/"
        },
        "id": "u3T3sFmf9zrA",
        "outputId": "f1c28c33-9377-44f8-d9fd-dafd72a360ad"
      },
      "source": [
        "print('Olá mundo!')"
      ],
      "execution_count": null,
      "outputs": [
        {
          "output_type": "stream",
          "name": "stdout",
          "text": [
            "Olá mundo!\n"
          ]
        }
      ]
    },
    {
      "cell_type": "markdown",
      "metadata": {
        "id": "WUO7-vIuAb0z"
      },
      "source": [
        "Operações aritméticas"
      ]
    },
    {
      "cell_type": "code",
      "metadata": {
        "colab": {
          "base_uri": "https://localhost:8080/"
        },
        "id": "yecGRQlXAg0l",
        "outputId": "1fcee56c-d499-4b16-a499-0a84ddeadb87"
      },
      "source": [
        "print(2 + 3)"
      ],
      "execution_count": null,
      "outputs": [
        {
          "output_type": "stream",
          "name": "stdout",
          "text": [
            "5\n"
          ]
        }
      ]
    },
    {
      "cell_type": "markdown",
      "metadata": {
        "id": "rj4NB7b6BFuU"
      },
      "source": [
        "O que acontece aqui?"
      ]
    },
    {
      "cell_type": "code",
      "metadata": {
        "colab": {
          "base_uri": "https://localhost:8080/"
        },
        "id": "eFTVKCQtBHvw",
        "outputId": "4281227b-46ab-4b7f-d2d4-9acb21129773"
      },
      "source": [
        "print('2 + 3')"
      ],
      "execution_count": null,
      "outputs": [
        {
          "output_type": "stream",
          "name": "stdout",
          "text": [
            "2 + 3\n"
          ]
        }
      ]
    },
    {
      "cell_type": "markdown",
      "metadata": {
        "id": "wiYi12z9BMFK"
      },
      "source": [
        "E aqui? Acontece uma concatenação"
      ]
    },
    {
      "cell_type": "code",
      "metadata": {
        "colab": {
          "base_uri": "https://localhost:8080/"
        },
        "id": "9yWXhh3mBOZ-",
        "outputId": "7c7662ed-4c11-4237-e942-ea5120680126"
      },
      "source": [
        "print('2' + '3')"
      ],
      "execution_count": null,
      "outputs": [
        {
          "output_type": "stream",
          "name": "stdout",
          "text": [
            "23\n"
          ]
        }
      ]
    },
    {
      "cell_type": "markdown",
      "metadata": {
        "id": "AIgwzPsfBfWY"
      },
      "source": [
        "Concatenando mensagens"
      ]
    },
    {
      "cell_type": "code",
      "metadata": {
        "colab": {
          "base_uri": "https://localhost:8080/"
        },
        "id": "KWAUHNTIBo5y",
        "outputId": "e4c8341e-fdfe-4d9f-f7dd-413c9b5c8cca"
      },
      "source": [
        "print('Olá, ' + 'mundo!')\n",
        "print('Olá,','mundo!')"
      ],
      "execution_count": null,
      "outputs": [
        {
          "output_type": "stream",
          "name": "stdout",
          "text": [
            "Olá, mundo!\n",
            "Olá, mundo!\n"
          ]
        }
      ]
    },
    {
      "cell_type": "markdown",
      "metadata": {
        "id": "cXuwuEoDBwen"
      },
      "source": [
        "Concatenando mensagens e números"
      ]
    },
    {
      "cell_type": "code",
      "metadata": {
        "colab": {
          "base_uri": "https://localhost:8080/"
        },
        "id": "7xr9ib5cB0_1",
        "outputId": "05e9ce03-7230-4bf8-d8bc-ce4bae40752b"
      },
      "source": [
        "print('O resultado da soma de 2 + 3 é:', 2 + 3)"
      ],
      "execution_count": null,
      "outputs": [
        {
          "output_type": "stream",
          "name": "stdout",
          "text": [
            "O resultado da soma de 2 + 3 é: 5\n"
          ]
        }
      ]
    },
    {
      "cell_type": "markdown",
      "metadata": {
        "id": "dh4EAA9MjDsX"
      },
      "source": [
        "Operadores e operações matemáticas"
      ]
    },
    {
      "cell_type": "code",
      "metadata": {
        "colab": {
          "base_uri": "https://localhost:8080/"
        },
        "id": "e61-6p5ojGS3",
        "outputId": "c4a7c9f8-ef8c-414b-90a7-fc94baadf6cb"
      },
      "source": [
        "print(10*(5 + 7)/4)"
      ],
      "execution_count": null,
      "outputs": [
        {
          "output_type": "stream",
          "name": "stdout",
          "text": [
            "30.0\n"
          ]
        }
      ]
    },
    {
      "cell_type": "markdown",
      "metadata": {
        "id": "QBhiWXRKjStq"
      },
      "source": [
        "Cuidado!!"
      ]
    },
    {
      "cell_type": "code",
      "metadata": {
        "colab": {
          "base_uri": "https://localhost:8080/"
        },
        "id": "8Yw1E5JOjT_k",
        "outputId": "71626c72-38c4-4686-c157-51a09273f7ec"
      },
      "source": [
        "print(10*(5 + 7/4))"
      ],
      "execution_count": null,
      "outputs": [
        {
          "output_type": "stream",
          "name": "stdout",
          "text": [
            "67.5\n"
          ]
        }
      ]
    },
    {
      "cell_type": "markdown",
      "metadata": {
        "id": "JmWnUXcvhHH4"
      },
      "source": [
        "# 2. VARIÁVEIS, DADOS E SEUS TIPOS"
      ]
    },
    {
      "cell_type": "code",
      "metadata": {
        "colab": {
          "base_uri": "https://localhost:8080/"
        },
        "id": "CEXq7kMXmCBk",
        "outputId": "9a95bb8f-3d40-4740-bc42-9b5cef28fb7d"
      },
      "source": [
        "nota = 8.5\n",
        "disciplina = 'Lógica de Programação e Algoritmos'\n",
        "\n",
        "print(nota)\n",
        "print(disciplina)"
      ],
      "execution_count": null,
      "outputs": [
        {
          "output_type": "stream",
          "name": "stdout",
          "text": [
            "8.5\n",
            "Lógica de Programação e Algoritmos\n"
          ]
        }
      ]
    },
    {
      "cell_type": "code",
      "metadata": {
        "colab": {
          "base_uri": "https://localhost:8080/"
        },
        "id": "-iYqWl8xmQs7",
        "outputId": "11682529-8062-4d93-bb19-73f1e278b013"
      },
      "source": [
        "print('Disciplina: ', disciplina,'. Nota', nota)"
      ],
      "execution_count": null,
      "outputs": [
        {
          "output_type": "stream",
          "name": "stdout",
          "text": [
            "Disciplina:  Lógica de Programação e Algoritmos . Nota 8.5\n"
          ]
        }
      ]
    },
    {
      "cell_type": "markdown",
      "metadata": {
        "id": "N98bY7zrlN1w"
      },
      "source": [
        "Variável lógica"
      ]
    },
    {
      "cell_type": "code",
      "metadata": {
        "colab": {
          "base_uri": "https://localhost:8080/"
        },
        "id": "E4iXagg9lQzJ",
        "outputId": "1f1e600c-44b1-49dd-b434-6648b4eb83e8"
      },
      "source": [
        "a = 1\n",
        "b = 5\n",
        "resposta = a == b\n",
        "print(resposta)\n",
        "resposta = a != b\n",
        "print(resposta)"
      ],
      "execution_count": null,
      "outputs": [
        {
          "output_type": "stream",
          "name": "stdout",
          "text": [
            "False\n",
            "True\n"
          ]
        }
      ]
    },
    {
      "cell_type": "markdown",
      "metadata": {
        "id": "m6YfLJLdncv7"
      },
      "source": [
        "Variável string"
      ]
    },
    {
      "cell_type": "code",
      "metadata": {
        "colab": {
          "base_uri": "https://localhost:8080/"
        },
        "id": "hkYOE8W5neix",
        "outputId": "efb71f40-c8a9-42bc-dd79-b59e011e4c9a"
      },
      "source": [
        "frase = 'Olá, mundo!'\n",
        "print(frase)"
      ],
      "execution_count": null,
      "outputs": [
        {
          "output_type": "stream",
          "name": "stdout",
          "text": [
            "Olá, mundo!\n"
          ]
        }
      ]
    },
    {
      "cell_type": "markdown",
      "metadata": {
        "id": "5eUVF7CxnlGy"
      },
      "source": [
        "Acessando o **índice**:"
      ]
    },
    {
      "cell_type": "code",
      "metadata": {
        "colab": {
          "base_uri": "https://localhost:8080/"
        },
        "id": "o-lSLyKynrX8",
        "outputId": "c37b8084-cd5d-4027-90db-95aa1401af85"
      },
      "source": [
        "print(frase[0])\n",
        "print(frase[2])"
      ],
      "execution_count": null,
      "outputs": [
        {
          "output_type": "stream",
          "name": "stdout",
          "text": [
            "O\n",
            "á\n"
          ]
        }
      ]
    },
    {
      "cell_type": "markdown",
      "metadata": {
        "id": "T8-rI_9UiCv8"
      },
      "source": [
        "# 3. MANIPULAÇÕES AVANÇADAS COM STRINGS"
      ]
    },
    {
      "cell_type": "markdown",
      "metadata": {
        "id": "rK6aXFkioa_d"
      },
      "source": [
        "Concatenação"
      ]
    },
    {
      "cell_type": "code",
      "metadata": {
        "colab": {
          "base_uri": "https://localhost:8080/"
        },
        "id": "Fue3XJIvodZH",
        "outputId": "c3db1597-7ff9-408e-e842-65678fe43d3b"
      },
      "source": [
        "s1 = 'Lógica de Programação'\n",
        "s1 = s1 + ' e Algoritmos'\n",
        "print(s1)"
      ],
      "execution_count": null,
      "outputs": [
        {
          "output_type": "stream",
          "name": "stdout",
          "text": [
            "Lógica de Programação e Algoritmos\n"
          ]
        }
      ]
    },
    {
      "cell_type": "markdown",
      "metadata": {
        "id": "8NqU-PQgoqim"
      },
      "source": [
        "Repetindo strings na concatenação:"
      ]
    },
    {
      "cell_type": "code",
      "metadata": {
        "colab": {
          "base_uri": "https://localhost:8080/"
        },
        "id": "v6MXXzwFo9aX",
        "outputId": "2aa8809b-84b7-4cdd-d41c-dbea3b922736"
      },
      "source": [
        "s1 = 'A' + '-' * 10 + 'B'\n",
        "print(s1)"
      ],
      "execution_count": null,
      "outputs": [
        {
          "output_type": "stream",
          "name": "stdout",
          "text": [
            "A----------B\n"
          ]
        }
      ]
    },
    {
      "cell_type": "markdown",
      "metadata": {
        "id": "WcxyJBfdpUN1"
      },
      "source": [
        "Composição"
      ]
    },
    {
      "cell_type": "code",
      "metadata": {
        "colab": {
          "base_uri": "https://localhost:8080/"
        },
        "id": "o69arW7opXbj",
        "outputId": "832c828b-2d4c-4ea3-f6ef-eb4c5d00b0c8"
      },
      "source": [
        "nota = 8.5\n",
        "s1 = 'Você tirou %f na disciplina de Algoritmos' % nota\n",
        "print(s1)"
      ],
      "execution_count": null,
      "outputs": [
        {
          "output_type": "stream",
          "name": "stdout",
          "text": [
            "Você tirou 8.500000 na disciplina de Algoritmos\n"
          ]
        }
      ]
    },
    {
      "cell_type": "markdown",
      "metadata": {
        "id": "dRuoQ7UxpkLD"
      },
      "source": [
        "Limitando as casas decimais:"
      ]
    },
    {
      "cell_type": "code",
      "metadata": {
        "colab": {
          "base_uri": "https://localhost:8080/"
        },
        "id": "B1Ak1lm8psV8",
        "outputId": "74e930a6-e488-4d96-e989-3f1a68d65310"
      },
      "source": [
        "nota = 8.5\n",
        "s1 = 'Você tirou %.2f na disciplina de Algoritmos' % nota\n",
        "print(s1)"
      ],
      "execution_count": null,
      "outputs": [
        {
          "output_type": "stream",
          "name": "stdout",
          "text": [
            "Você tirou 8.50 na disciplina de Algoritmos\n"
          ]
        }
      ]
    },
    {
      "cell_type": "markdown",
      "metadata": {
        "id": "cJrrX6rdGrpJ"
      },
      "source": [
        "Várias variáveis:"
      ]
    },
    {
      "cell_type": "code",
      "metadata": {
        "colab": {
          "base_uri": "https://localhost:8080/"
        },
        "id": "9oidD5mZGuWR",
        "outputId": "4c0bec35-48dc-44f7-9f1f-28c249e15197"
      },
      "source": [
        "nota = 8.5\n",
        "disciplina = 'Algortimos'\n",
        "s1 = 'Você tirou %.2f na disciplina de %s' % (nota, disciplina)\n",
        "print(s1)"
      ],
      "execution_count": null,
      "outputs": [
        {
          "output_type": "stream",
          "name": "stdout",
          "text": [
            "Você tirou 8.50 na disciplina de Algortimos\n"
          ]
        }
      ]
    },
    {
      "cell_type": "markdown",
      "metadata": {
        "id": "IPqi8SvrHJfS"
      },
      "source": [
        "Composição mais moderna"
      ]
    },
    {
      "cell_type": "code",
      "metadata": {
        "colab": {
          "base_uri": "https://localhost:8080/"
        },
        "id": "droj77OwIdDw",
        "outputId": "f3f8e661-ee4a-4e0d-c6d2-70e61bbd3826"
      },
      "source": [
        "nota = 8.5\n",
        "disciplina = 'Algoritmos'\n",
        "s1 = 'Você tirou {} na disciplina de {}'.format(nota, disciplina)\n",
        "print(s1)"
      ],
      "execution_count": null,
      "outputs": [
        {
          "output_type": "stream",
          "name": "stdout",
          "text": [
            "Você tirou 8.5 na disciplina de Algoritmos\n"
          ]
        }
      ]
    },
    {
      "cell_type": "markdown",
      "metadata": {
        "id": "yHlW6P4KIrh6"
      },
      "source": [
        "Fatiamento"
      ]
    },
    {
      "cell_type": "code",
      "metadata": {
        "colab": {
          "base_uri": "https://localhost:8080/"
        },
        "id": "w0zmDKbCItG0",
        "outputId": "e2dbb98d-a55f-45fb-c44d-6bebe3fc433f"
      },
      "source": [
        "s1 = 'Lógica de Programação e Algoritmos'\n",
        "print(s1[0:6])"
      ],
      "execution_count": null,
      "outputs": [
        {
          "output_type": "stream",
          "name": "stdout",
          "text": [
            "Lógica\n"
          ]
        }
      ]
    },
    {
      "cell_type": "code",
      "metadata": {
        "colab": {
          "base_uri": "https://localhost:8080/"
        },
        "id": "uG9wRMt_Jxya",
        "outputId": "a79a8fac-0392-49f3-b4ab-9d4cf3f11718"
      },
      "source": [
        "s1 = 'Lógica de Programação e Algoritmos'\n",
        "print(s1[24:34])"
      ],
      "execution_count": null,
      "outputs": [
        {
          "output_type": "stream",
          "name": "stdout",
          "text": [
            "Algoritmos\n"
          ]
        }
      ]
    },
    {
      "cell_type": "code",
      "metadata": {
        "colab": {
          "base_uri": "https://localhost:8080/"
        },
        "id": "cMfvBtW0J1f0",
        "outputId": "7de5efc3-118d-4cf8-a45b-bbd28e9b6c65"
      },
      "source": [
        "s1 = 'Lógica de Programação e Algoritmos'\n",
        "print(s1[:6])\n",
        "print(s1[24:])"
      ],
      "execution_count": null,
      "outputs": [
        {
          "output_type": "stream",
          "name": "stdout",
          "text": [
            "Lógica\n",
            "Algoritmos\n"
          ]
        }
      ]
    },
    {
      "cell_type": "markdown",
      "metadata": {
        "id": "WvdntkJKLIey"
      },
      "source": [
        "Tamanho (length)"
      ]
    },
    {
      "cell_type": "code",
      "metadata": {
        "colab": {
          "base_uri": "https://localhost:8080/"
        },
        "id": "NvfiEcYbLMV3",
        "outputId": "7b04f685-26d0-4e87-dbb2-b0bd8ae10cff"
      },
      "source": [
        "s1 = 'Lógica de Programação e Algoritmos'\n",
        "tamanho = len(s1)\n",
        "print(tamanho)"
      ],
      "execution_count": null,
      "outputs": [
        {
          "output_type": "stream",
          "name": "stdout",
          "text": [
            "34\n"
          ]
        }
      ]
    },
    {
      "cell_type": "markdown",
      "metadata": {
        "id": "VE90xi1hj30s"
      },
      "source": [
        "# 4. FUNÇÃO DE ENTRADA E FLUXO DE EXECUÇÃO DO PROGRAMA"
      ]
    },
    {
      "cell_type": "markdown",
      "metadata": {
        "id": "_ioVN58hMLqE"
      },
      "source": [
        "Função de entrada"
      ]
    },
    {
      "cell_type": "code",
      "metadata": {
        "colab": {
          "base_uri": "https://localhost:8080/"
        },
        "id": "fXYt330CMKe2",
        "outputId": "67183fe5-1d46-45c2-93c3-0cfabc499a05"
      },
      "source": [
        "idade = input('Qual a sua idade?')\n",
        "print(idade)"
      ],
      "execution_count": null,
      "outputs": [
        {
          "output_type": "stream",
          "name": "stdout",
          "text": [
            "Qual a sua idade?39\n",
            "39\n"
          ]
        }
      ]
    },
    {
      "cell_type": "code",
      "metadata": {
        "colab": {
          "base_uri": "https://localhost:8080/"
        },
        "id": "J4lbKQ1_MX7r",
        "outputId": "f56d27cd-1851-422b-b127-eff6c00eb659"
      },
      "source": [
        "nome = input('Qual seu nome? ')\n",
        "print('Olá {}, seja bem-vindo!'.format(nome))"
      ],
      "execution_count": null,
      "outputs": [
        {
          "output_type": "stream",
          "name": "stdout",
          "text": [
            "Qual seu nome? Nirlan\n",
            "Olá Nirlan, seja bem-vindo!\n"
          ]
        }
      ]
    },
    {
      "cell_type": "markdown",
      "metadata": {
        "id": "6-DUY4_zOFIX"
      },
      "source": [
        "Convertendo dados de entrada"
      ]
    },
    {
      "cell_type": "code",
      "metadata": {
        "colab": {
          "base_uri": "https://localhost:8080/"
        },
        "id": "eKmU1Z89OXpo",
        "outputId": "fc24f8bf-97bf-4f13-991d-5a2d9abfc6ce"
      },
      "source": [
        "nota = float(input('Qual nota você recebeu na disciplina? '))\n",
        "print('Você tirou nota {}.'.format(nota))"
      ],
      "execution_count": null,
      "outputs": [
        {
          "output_type": "stream",
          "name": "stdout",
          "text": [
            "Qual nota você recebeu na disciplina? 9.99999\n",
            "Você tirou nota 9.99999.\n"
          ]
        }
      ]
    },
    {
      "cell_type": "markdown",
      "metadata": {
        "id": "-ARWJQr6Ot7R"
      },
      "source": [
        "Exercício"
      ]
    },
    {
      "cell_type": "code",
      "metadata": {
        "colab": {
          "base_uri": "https://localhost:8080/"
        },
        "id": "EUZEGaJJOxtg",
        "outputId": "1c1c1dbb-8dcb-465e-8c76-faf6aec127c5"
      },
      "source": [
        "n1 = int(input('Primeiro número: '))\n",
        "n2 = int(input('Segundo número: '))\n",
        "print('A soma de {} mais {} é {}'.format(n1, n2, n1 + n2))"
      ],
      "execution_count": null,
      "outputs": [
        {
          "output_type": "stream",
          "name": "stdout",
          "text": [
            "Primeiro número: 4\n",
            "Segundo número: 5\n",
            "A soma de 4 mais 5 é 9\n"
          ]
        }
      ]
    },
    {
      "cell_type": "markdown",
      "metadata": {
        "id": "QrZrc2KZXY-w"
      },
      "source": [
        ""
      ]
    },
    {
      "cell_type": "markdown",
      "metadata": {
        "id": "lLV7QAg5XblA"
      },
      "source": [
        "# **AULA 2**"
      ]
    },
    {
      "cell_type": "markdown",
      "metadata": {
        "id": "hoHlIlCyZKQ-"
      },
      "source": [
        "# 1. CONDICIONAL SIMPLES E COMPOSTA"
      ]
    },
    {
      "cell_type": "markdown",
      "metadata": {
        "id": "_JRT8lp0Zkbf"
      },
      "source": [
        "Condicional simples"
      ]
    },
    {
      "cell_type": "code",
      "metadata": {
        "colab": {
          "base_uri": "https://localhost:8080/"
        },
        "id": "Uetp6r2KZSdz",
        "outputId": "47473c6c-2409-4503-b555-a18dbe582a12"
      },
      "source": [
        "# Lê dois valores inteiros e compara ambos\n",
        "\n",
        "x = int(input('Digite um valor inteiro: '))\n",
        "y = int(input('Digite um segundo valor inteiro: '))\n",
        "if (x > y):\n",
        "  print('O primeiro valor é maior que o segundo!')"
      ],
      "execution_count": null,
      "outputs": [
        {
          "output_type": "stream",
          "name": "stdout",
          "text": [
            "Digite um valor inteiro: 8\n",
            "Digite um segundo valor inteiro: 3\n",
            "O primeiro valor é maior que o segundo!\n"
          ]
        }
      ]
    },
    {
      "cell_type": "markdown",
      "metadata": {
        "id": "OGVwkAbsc0SS"
      },
      "source": [
        "Condicional composta"
      ]
    },
    {
      "cell_type": "code",
      "metadata": {
        "colab": {
          "base_uri": "https://localhost:8080/"
        },
        "id": "h9gcFDgcc38j",
        "outputId": "d743ceee-6df2-43a1-a887-aa38f795ced6"
      },
      "source": [
        "# Desenvolva um programa que lê um valor inteiro e descobre se ele é par \n",
        "# ou ímpar\n",
        "\n",
        "x = int(input('Digite um valor inteiro: '))\n",
        "if (x % 2 == 0):\n",
        "  print('O número é par')\n",
        "else:\n",
        "  print('O número é ímpar!')"
      ],
      "execution_count": null,
      "outputs": [
        {
          "output_type": "stream",
          "name": "stdout",
          "text": [
            "Digite um valor inteiro: 33\n",
            "O número é ímpar!\n"
          ]
        }
      ]
    },
    {
      "cell_type": "markdown",
      "metadata": {
        "id": "0uAhDYLJoe5H"
      },
      "source": [
        "# 2. EXPRESSÕES LÓGICAS E ÁLGEBRA BOOLEANA"
      ]
    },
    {
      "cell_type": "markdown",
      "metadata": {
        "id": "WKagP7q6orsZ"
      },
      "source": [
        "Operadores lógicos/booleanos"
      ]
    },
    {
      "cell_type": "code",
      "metadata": {
        "colab": {
          "base_uri": "https://localhost:8080/"
        },
        "id": "_t0FAbAVq31L",
        "outputId": "1aa3ff4d-d11d-4397-b0a4-d52814ed2c6d"
      },
      "source": [
        "# not\n",
        "\n",
        "x = True\n",
        "y = False\n",
        "print(not x)\n",
        "print(not y)"
      ],
      "execution_count": null,
      "outputs": [
        {
          "output_type": "stream",
          "name": "stdout",
          "text": [
            "False\n",
            "True\n"
          ]
        }
      ]
    },
    {
      "cell_type": "code",
      "metadata": {
        "colab": {
          "base_uri": "https://localhost:8080/"
        },
        "id": "PIdyr9SKrKI1",
        "outputId": "984e98f7-d9f2-454d-ee8e-c6a4dd3cdcae"
      },
      "source": [
        "# and\n",
        "\n",
        "x = True\n",
        "y = False\n",
        "print(x and y)"
      ],
      "execution_count": null,
      "outputs": [
        {
          "output_type": "stream",
          "name": "stdout",
          "text": [
            "False\n"
          ]
        }
      ]
    },
    {
      "cell_type": "code",
      "metadata": {
        "colab": {
          "base_uri": "https://localhost:8080/"
        },
        "id": "fd3kB7YDrQ1V",
        "outputId": "f151a6f2-6484-490d-873b-b22e01661a9c"
      },
      "source": [
        "# or\n",
        "\n",
        "x = True\n",
        "y = False\n",
        "print(x or y)"
      ],
      "execution_count": null,
      "outputs": [
        {
          "output_type": "stream",
          "name": "stdout",
          "text": [
            "True\n"
          ]
        }
      ]
    },
    {
      "cell_type": "markdown",
      "metadata": {
        "id": "h_g9r7GArZUU"
      },
      "source": [
        "Expressões lógicas/booleanas"
      ]
    },
    {
      "cell_type": "code",
      "metadata": {
        "colab": {
          "base_uri": "https://localhost:8080/"
        },
        "id": "3tZtzAkdsj0T",
        "outputId": "ad0ad38f-12c8-4ce8-db80-cc4932dd4ab2"
      },
      "source": [
        "# Operadores relacionais tem precedência sobre operadores lógicos (not)\n",
        "\n",
        "x = 10\n",
        "y = 1\n",
        "res = not x > y\n",
        "print(res)"
      ],
      "execution_count": null,
      "outputs": [
        {
          "output_type": "stream",
          "name": "stdout",
          "text": [
            "False\n"
          ]
        }
      ]
    },
    {
      "cell_type": "code",
      "metadata": {
        "colab": {
          "base_uri": "https://localhost:8080/"
        },
        "id": "hoNsb6iutTk2",
        "outputId": "3f601a6c-df19-49ca-c4c3-52c3a104cdff"
      },
      "source": [
        "# Operadores relacionais tem precedência sobre operadores lógicos (and)\n",
        "\n",
        "x = 10\n",
        "y = 1\n",
        "z = 5.5\n",
        "res = x > y and z == y\n",
        "print(res)"
      ],
      "execution_count": null,
      "outputs": [
        {
          "output_type": "stream",
          "name": "stdout",
          "text": [
            "False\n"
          ]
        }
      ]
    },
    {
      "cell_type": "markdown",
      "metadata": {
        "id": "iJp576_PtzQO"
      },
      "source": [
        "Exercícios"
      ]
    },
    {
      "cell_type": "code",
      "metadata": {
        "colab": {
          "base_uri": "https://localhost:8080/"
        },
        "id": "ZoMp_QyAt1nb",
        "outputId": "8dff0203-e099-47f6-8ddf-f5977300fedb"
      },
      "source": [
        "# Um aluno, para passar de ano, precisa ser aprovado em todas as matérias que \n",
        "# está cursando. Assuma que a média para aprovação é a partir de 7, e que o \n",
        "# aluno cursa 3 matérias, somente. Escreva um algoritmo que leia a nota final \n",
        "# do aluno em cada matéria e informe, na tela, se ele passou de ano ou não.\n",
        "\n",
        "m1 = float(input('Digite a nota da 1º matéria: '))\n",
        "m2 = float(input('Digite a nota da 2º matéria: '))\n",
        "m3 = float(input('Digite a nota da 3º matéria: '))\n",
        "\n",
        "if m1 >= 7 and m2 >=7 and m3 >= 7:\n",
        "  print('O aluno está aprovado de ano!')\n",
        "else:\n",
        "  print('O aluno não passou de ano!')"
      ],
      "execution_count": null,
      "outputs": [
        {
          "output_type": "stream",
          "name": "stdout",
          "text": [
            "Digite a nota da 1º matéria: 7.1\n",
            "Digite a nota da 2º matéria: 7.75\n",
            "Digite a nota da 3º matéria: 9\n",
            "O aluno está aprovado de ano!\n"
          ]
        }
      ]
    },
    {
      "cell_type": "markdown",
      "metadata": {
        "id": "z6J4xUVbvbch"
      },
      "source": [
        "# 3. CONDICIONAIS ANINHADAS"
      ]
    },
    {
      "cell_type": "code",
      "metadata": {
        "colab": {
          "base_uri": "https://localhost:8080/"
        },
        "id": "arvgW0BXxAdK",
        "outputId": "2a0c611b-b6b5-4809-831f-cedd1bc1f1b0"
      },
      "source": [
        "# Escreva um algoritmo em Python em que o usuário escolhe se quer comprar maçãs,\n",
        "# laranjas ou bananas. Deverá ser apresentado na tela um menu com as opções: 1\n",
        "# para maçã, 2 para laranja e 3 para banana.\n",
        "\n",
        "# Após escolhida a fruta, deve-se digitar quantas unidades se quer comprar.\n",
        "# O algoritmo deve calcular o preço total a pagar do produto escolhido e\n",
        "# mostrá-lo na tela.\n",
        "\n",
        "# Considere que uma maçã custa R$ 2,30, uma laranja, R$ 3,60, e uma banana,\n",
        "# R$ 1,85\n",
        "\n",
        "print('Escolha o que deseja comprar:')\n",
        "print('1 - maçã')\n",
        "print('2 - laranja')\n",
        "print('3 - banana')\n",
        "\n",
        "produto = int(input('Qual sua escolha?'))\n",
        "qtd = int(input('Quantas unidades?'))\n",
        "\n",
        "if (produto == 1):\n",
        "  pagar = qtd * 2.30\n",
        "  print('Você comprou {} maçãs. Total à pagar: {}'.format(qtd, pagar))\n",
        "else:\n",
        "  if (produto == 2):\n",
        "    pagar = qtd * 3.60\n",
        "    print('Você comprou {} laranjas. Total à pagar: {}'.format(qtd, pagar))\n",
        "  else:\n",
        "    if (produto == 3):\n",
        "      pagar = qtd * 1.85\n",
        "      print('Você comprou {} bananas. Total à pagar: {}'.format(qtd, pagar))\n",
        "    else:\n",
        "      print('Produto inexistente!')"
      ],
      "execution_count": null,
      "outputs": [
        {
          "output_type": "stream",
          "name": "stdout",
          "text": [
            "Escolha o que deseja comprar:\n",
            "1 - maçã\n",
            "2 - laranja\n",
            "3 - banana\n",
            "Qual sua escolha?2\n",
            "Quantas unidades?3\n",
            "Você comprou 3 laranjas. Total à pagar: 10.8\n"
          ]
        }
      ]
    },
    {
      "cell_type": "markdown",
      "metadata": {
        "id": "nuWSPVkT5-eN"
      },
      "source": [
        "# 4. CONDICIONAIS DE MÚLTIPLA ESCOLHA (ELIF)"
      ]
    },
    {
      "cell_type": "code",
      "metadata": {
        "colab": {
          "base_uri": "https://localhost:8080/"
        },
        "id": "b-FJkKma7Nuc",
        "outputId": "96d9d825-5031-4060-bd17-71c742157c4c"
      },
      "source": [
        "# Mesmo exercício anterior, mas usando elif\n",
        "\n",
        "print('Escolha o que deseja comprar:')\n",
        "print('1 - maçã')\n",
        "print('2 - laranja')\n",
        "print('3 - banana')\n",
        "\n",
        "produto = int(input('Qual sua escolha?'))\n",
        "qtd = int(input('Quantas unidades?'))\n",
        "\n",
        "if (produto == 1):\n",
        "  pagar = qtd * 2.30\n",
        "  print('Você comprou {} maçãs. Total à pagar: {}'.format(qtd, pagar))\n",
        "elif (produto == 2):\n",
        "  pagar = qtd * 3.60\n",
        "  print('Você comprou {} laranjas. Total à pagar: {}'.format(qtd, pagar))\n",
        "elif (produto == 3):\n",
        "  pagar = qtd * 1.85\n",
        "  print('Você comprou {} bananas. Total à pagar: {}'.format(qtd, pagar))\n",
        "else:\n",
        "  print('Produto inexistente!')"
      ],
      "execution_count": null,
      "outputs": [
        {
          "output_type": "stream",
          "name": "stdout",
          "text": [
            "Escolha o que deseja comprar:\n",
            "1 - maçã\n",
            "2 - laranja\n",
            "3 - banana\n",
            "Qual sua escolha?1\n",
            "Quantas unidades?23\n",
            "Você comprou 23 maçãs. Total à pagar: 52.9\n"
          ]
        }
      ]
    },
    {
      "cell_type": "code",
      "metadata": {
        "colab": {
          "base_uri": "https://localhost:8080/"
        },
        "id": "zuzbMl_V8xaX",
        "outputId": "5fdd3f5f-6a30-4fbe-d7e4-a79ad8e17cb5"
      },
      "source": [
        "# Escreva um algoritmo que lê um nome e uma idade:\n",
        "#\n",
        "#   * Caso o nome digitado seja Vinicius, escreva isso na tela\n",
        "#\n",
        "#   * Caso o usuário digite qualquer outro nome, verifique sua\n",
        "#     idade. Se for menor que 18 anos, informe que é de menor.\n",
        "#     Se for maior que 100 anos, informe que esta pessoa\n",
        "#     possivelmente não existe.\n",
        "\n",
        "nome = input('Por favor, digite seu nome: ')\n",
        "idade = int(input('Por favor, digite sua idade: '))\n",
        "\n",
        "if nome == 'Vinicius':\n",
        "  print('O nome é %s' % nome)\n",
        "elif idade < 18:\n",
        "  print('O usuário é menor de idade')\n",
        "elif idade > 100:\n",
        "  print('Esta pessoa provavelmente não existe')"
      ],
      "execution_count": null,
      "outputs": [
        {
          "name": "stdout",
          "output_type": "stream",
          "text": [
            "Por favor, digite seu nome: Julian\n",
            "Por favor, digite sua idade: 25\n"
          ]
        }
      ]
    },
    {
      "cell_type": "markdown",
      "metadata": {
        "id": "x5-kSR3YivB2"
      },
      "source": [
        "# **AULA 3**"
      ]
    },
    {
      "cell_type": "markdown",
      "metadata": {
        "id": "GP8kRE_BjCPA"
      },
      "source": [
        "# 1. ESTRUTURA DE REPETIÇÃO WHILE"
      ]
    },
    {
      "cell_type": "code",
      "metadata": {
        "colab": {
          "base_uri": "https://localhost:8080/"
        },
        "id": "N_T-vN9El9n-",
        "outputId": "2199fbf8-c7a3-448a-b0c6-a4498846fab5"
      },
      "source": [
        "x = 1\n",
        "while x <= 5:\n",
        "  print(x)\n",
        "  x += 1"
      ],
      "execution_count": null,
      "outputs": [
        {
          "output_type": "stream",
          "name": "stdout",
          "text": [
            "1\n",
            "2\n",
            "3\n",
            "4\n",
            "5\n"
          ]
        }
      ]
    },
    {
      "cell_type": "markdown",
      "metadata": {
        "id": "Qr2DXThOr67O"
      },
      "source": [
        "Contadores"
      ]
    },
    {
      "cell_type": "code",
      "metadata": {
        "colab": {
          "base_uri": "https://localhost:8080/"
        },
        "id": "SJ-XkdKPsDQ-",
        "outputId": "fc0655ab-1ca0-40d9-f93b-83a57c1a2665"
      },
      "source": [
        "inicial = int(input('Qual valor deseja iniciar a contagem?'))\n",
        "final = int(input('Qual valor deseja encerrar a contagem?'))\n",
        "x = inicial\n",
        "while x <= final:\n",
        "  if x % 2 == 0:\n",
        "    print(x)\n",
        "  x += 1"
      ],
      "execution_count": null,
      "outputs": [
        {
          "output_type": "stream",
          "name": "stdout",
          "text": [
            "Qual valor deseja iniciar a contagem?5\n",
            "Qual valor deseja encerrar a contagem?10\n",
            "6\n",
            "8\n",
            "10\n"
          ]
        }
      ]
    },
    {
      "cell_type": "markdown",
      "metadata": {
        "id": "8Z12uOUrsmQz"
      },
      "source": [
        "Acumuladores"
      ]
    },
    {
      "cell_type": "code",
      "metadata": {
        "colab": {
          "base_uri": "https://localhost:8080/"
        },
        "id": "HfkLCBW-sxFE",
        "outputId": "45298080-cec1-447f-d541-611158fea0ce"
      },
      "source": [
        "soma = 0\n",
        "cont = 1\n",
        "while cont <= 5:\n",
        "  x = float(input('Digite a {}ª nota:'.format(cont)))\n",
        "  soma += x\n",
        "  cont += 1\n",
        "media = soma / cont\n",
        "print('Média final: {:.2f}'.format(media))"
      ],
      "execution_count": null,
      "outputs": [
        {
          "output_type": "stream",
          "name": "stdout",
          "text": [
            "Digite a 1ª nota:4.6\n",
            "Digite a 2ª nota:7.6\n",
            "Digite a 3ª nota:8.8\n",
            "Digite a 4ª nota:2.3\n",
            "Digite a 5ª nota:7.9\n",
            "Média final: 5.20\n"
          ]
        }
      ]
    },
    {
      "cell_type": "markdown",
      "metadata": {
        "id": "Q2bovvsiz37I"
      },
      "source": [
        "# 2. CARACTERÍSTICAS E RECURSOS AVANÇADOS DE LAÇOS EM PYTHON"
      ]
    },
    {
      "cell_type": "markdown",
      "metadata": {
        "id": "iTU1_tn24Anb"
      },
      "source": [
        "Validando dados de entrada com um loop"
      ]
    },
    {
      "cell_type": "code",
      "metadata": {
        "colab": {
          "base_uri": "https://localhost:8080/"
        },
        "id": "ThgD6ZlJ4Y9w",
        "outputId": "de6627ae-1088-471b-8064-a006db202a97"
      },
      "source": [
        "# Validando a entrada\n",
        "\n",
        "x = int(input('Digite um valor maior do que zero: '))\n",
        "while x <= 0:\n",
        "  x = int(input('Digite um valor maior do que zero: '))\n",
        "print('Você digitou {}. Encerrando o programa...'.format(x))"
      ],
      "execution_count": null,
      "outputs": [
        {
          "output_type": "stream",
          "name": "stdout",
          "text": [
            "Digite um valor maior do que zero: 0\n",
            "Digite um valor maior do que zero: -909\n",
            "Digite um valor maior do que zero: -1\n",
            "Digite um valor maior do que zero: 1\n",
            "Você digitou 1. Encerrando o programa...\n"
          ]
        }
      ]
    },
    {
      "cell_type": "markdown",
      "metadata": {
        "id": "jK-VJZ1E6vSa"
      },
      "source": [
        "Interrompendo um loop com break"
      ]
    },
    {
      "cell_type": "code",
      "metadata": {
        "colab": {
          "base_uri": "https://localhost:8080/"
        },
        "id": "ll3DYz3Z6yfD",
        "outputId": "b02eafd2-ab90-45a6-e3d9-9466be223368"
      },
      "source": [
        "print('Digite uma mensagem que irei repetir para você!')\n",
        "print('Para encerrar escreva \"sair\".')\n",
        "while True:\n",
        "  texto = input('')\n",
        "  print(texto)\n",
        "  if texto == 'sair':\n",
        "    break\n",
        "print('Encerrando o programa...')"
      ],
      "execution_count": null,
      "outputs": [
        {
          "output_type": "stream",
          "name": "stdout",
          "text": [
            "Digite uma mensagem que irei repetir para você!\n",
            "Para encerrar escreva \"sair\".\n",
            "Nirlan\n",
            "Nirlan\n",
            "Neckir\n",
            "Neckir\n",
            "UNINTER\n",
            "UNINTER\n",
            "sair\n",
            "sair\n",
            "Encerrando o programa...\n"
          ]
        }
      ]
    },
    {
      "cell_type": "markdown",
      "metadata": {
        "id": "Ia5u32PD8xMo"
      },
      "source": [
        "Voltando ao início do laço com continue"
      ]
    },
    {
      "cell_type": "code",
      "metadata": {
        "colab": {
          "base_uri": "https://localhost:8080/"
        },
        "id": "8WlGDhXp844_",
        "outputId": "90f5c742-00aa-404b-dda7-9a85423b31dc"
      },
      "source": [
        "while True:\n",
        "  nome = input('Qual o seu nome?')\n",
        "  if nome != 'Nirlan':\n",
        "    continue\n",
        "  senha = input('Qual a sua senha?')\n",
        "  if senha == 'UnInTeR':\n",
        "    break\n",
        "print('Acesso concedido.')"
      ],
      "execution_count": null,
      "outputs": [
        {
          "output_type": "stream",
          "name": "stdout",
          "text": [
            "Qual o seu nome?João\n",
            "Qual o seu nome?Paulo\n",
            "Qual o seu nome?Carlos\n",
            "Qual o seu nome?Tiago\n",
            "Qual o seu nome?Nirlan\n",
            "Qual a sua senha?xyz123\n",
            "Qual o seu nome?987654\n",
            "Qual o seu nome?Nirlan\n",
            "Qual a sua senha?UnINtEr\n",
            "Qual o seu nome?Nirlan\n",
            "Qual a sua senha?UnInTeR\n",
            "Acesso concedido.\n"
          ]
        }
      ]
    },
    {
      "cell_type": "markdown",
      "metadata": {
        "id": "AoG5RPqhC-k_"
      },
      "source": [
        "Valores \"Truthy\" e \"Falsey\""
      ]
    },
    {
      "cell_type": "code",
      "metadata": {
        "colab": {
          "base_uri": "https://localhost:8080/"
        },
        "id": "t26IART1DFiZ",
        "outputId": "e7ab3d87-a5e0-499b-c15c-46ddc69f0f54"
      },
      "source": [
        "nome = ''\n",
        "while not nome:\n",
        "  nome = input('Digite seu nome:')\n",
        "valor = int(input('Digite um número qualquer:'))\n",
        "if valor:\n",
        "  print('Você digitou um valor diferente de zero.')\n",
        "else:\n",
        "  print('Você digitou zero.')"
      ],
      "execution_count": null,
      "outputs": [
        {
          "output_type": "stream",
          "name": "stdout",
          "text": [
            "Digite seu nome:Nirlan\n",
            "Digite um número qualquer:0\n",
            "Você digitou zero.\n"
          ]
        }
      ]
    },
    {
      "cell_type": "markdown",
      "metadata": {
        "id": "hot03WPQh_LZ"
      },
      "source": [
        "# 3. ESTRUTURA DE REPETIÇÃO FOR"
      ]
    },
    {
      "cell_type": "code",
      "metadata": {
        "colab": {
          "base_uri": "https://localhost:8080/"
        },
        "id": "5ctkSmPsiJ_A",
        "outputId": "44d632a3-3d28-4511-fbbf-d55ffaad8465"
      },
      "source": [
        "for i in range(6):\n",
        "  print(i)"
      ],
      "execution_count": null,
      "outputs": [
        {
          "output_type": "stream",
          "name": "stdout",
          "text": [
            "0\n",
            "1\n",
            "2\n",
            "3\n",
            "4\n",
            "5\n"
          ]
        }
      ]
    },
    {
      "cell_type": "code",
      "metadata": {
        "colab": {
          "base_uri": "https://localhost:8080/"
        },
        "id": "xhXCrYYUi8Xb",
        "outputId": "2d537c5c-f4f6-4a0f-feab-06fc37c31214"
      },
      "source": [
        "# leia-se: para 'i' no intervalo de 1 a 6 de 1 em 1:\n",
        "for i in range(1,6,1):\n",
        "  print(i)"
      ],
      "execution_count": null,
      "outputs": [
        {
          "output_type": "stream",
          "name": "stdout",
          "text": [
            "1\n",
            "2\n",
            "3\n",
            "4\n",
            "5\n"
          ]
        }
      ]
    },
    {
      "cell_type": "code",
      "metadata": {
        "colab": {
          "base_uri": "https://localhost:8080/"
        },
        "id": "060VfYEXjRrz",
        "outputId": "10e9905d-6008-4c4a-b7da-59acd7409c61"
      },
      "source": [
        "for i in range(10,0,-2):\n",
        "  print(i)"
      ],
      "execution_count": null,
      "outputs": [
        {
          "output_type": "stream",
          "name": "stdout",
          "text": [
            "10\n",
            "8\n",
            "6\n",
            "4\n",
            "2\n"
          ]
        }
      ]
    },
    {
      "cell_type": "code",
      "metadata": {
        "colab": {
          "base_uri": "https://localhost:8080/"
        },
        "id": "gK6PdxBXkYqG",
        "outputId": "298ddc7c-92a3-4f95-cb67-9edb460dd218"
      },
      "source": [
        "# Cálculo da média dos valores pares de 1 até 100:\n",
        "soma = 0\n",
        "qtd = 0\n",
        "for i in range(1, 101):\n",
        "  if i % 2 == 0:\n",
        "    soma += i\n",
        "    qtd += 1\n",
        "media = soma / qtd\n",
        "print('A média dos pares de 1 até 100 é: {}'.format(media))"
      ],
      "execution_count": null,
      "outputs": [
        {
          "output_type": "stream",
          "name": "stdout",
          "text": [
            "A média dos pares de 1 até 100 é: 51.0\n"
          ]
        }
      ]
    },
    {
      "cell_type": "markdown",
      "metadata": {
        "id": "z5CiIntVo6zf"
      },
      "source": [
        "# 4. ESTRUTURAS DE REPETIÇÃO ANINHADAS"
      ]
    },
    {
      "cell_type": "code",
      "metadata": {
        "id": "A8vr5mE7pCKS"
      },
      "source": [
        "# Tabuada\n",
        "for i in range(1,11):\n",
        "  print('Tabuada do',i)\n",
        "  for j in range(1,11):    \n",
        "    print('{} x {} = {}'.format(i, j, i*j))"
      ],
      "execution_count": null,
      "outputs": []
    },
    {
      "cell_type": "code",
      "metadata": {
        "id": "ejKC06Ssr0XX"
      },
      "source": [
        "# Com while\n",
        "tabuada = 1\n",
        "while tabuada <= 10:\n",
        "  print('Tabuada do {}:'.format(tabuada))\n",
        "  i = 1\n",
        "  while i <= 10:\n",
        "    i += 1\n",
        "    print('{} x {} = {}'.format(tabuada, i, tabuada * i))\n",
        "  tabuada += 1"
      ],
      "execution_count": null,
      "outputs": []
    },
    {
      "cell_type": "markdown",
      "metadata": {
        "id": "2m0m-XLpDXkD"
      },
      "source": [
        "# **AULA 5**"
      ]
    },
    {
      "cell_type": "markdown",
      "metadata": {
        "id": "iK3cS3W4DjZY"
      },
      "source": [
        "# 1. PARÂMETROS EM FUNÇÕES"
      ]
    },
    {
      "cell_type": "code",
      "metadata": {
        "id": "28cO-uCcMxNm"
      },
      "source": [
        "def realce(s1):\n",
        "  #corpo da função\n",
        "  print('|',\"__\" * 10, '|')\n",
        "  print('|',\"__\" * 10, '|')\n",
        "  print(s1)\n",
        "  print('|',\"__\" * 10, '|')\n",
        "  print('|',\"__\" * 10, '|')"
      ],
      "execution_count": null,
      "outputs": []
    },
    {
      "cell_type": "code",
      "metadata": {
        "colab": {
          "base_uri": "https://localhost:8080/"
        },
        "id": "IOAn2KC6NEKC",
        "outputId": "4a8d6dfd-1852-46c9-ca3f-55b5769fcc06"
      },
      "source": [
        "#programa principal\n",
        "realce('          MENU')"
      ],
      "execution_count": null,
      "outputs": [
        {
          "output_type": "stream",
          "name": "stdout",
          "text": [
            "| ____________________ |\n",
            "| ____________________ |\n",
            "          MENU\n",
            "| ____________________ |\n",
            "| ____________________ |\n"
          ]
        }
      ]
    },
    {
      "cell_type": "code",
      "metadata": {
        "colab": {
          "base_uri": "https://localhost:8080/"
        },
        "id": "dHN-aLJMNu7q",
        "outputId": "e67e147f-1249-4dd6-fc00-13c66a1f1950"
      },
      "source": [
        "def sub2(x, y):\n",
        "  res = x - y\n",
        "  print(res)\n",
        "\n",
        "#programa principal\n",
        "sub2(7, 5)\n",
        "\n",
        "sub2(y = 7, x = 5)"
      ],
      "execution_count": null,
      "outputs": [
        {
          "output_type": "stream",
          "name": "stdout",
          "text": [
            "2\n",
            "-2\n"
          ]
        }
      ]
    },
    {
      "cell_type": "markdown",
      "metadata": {
        "id": "NWOwf8slPQ0J"
      },
      "source": [
        "Parâmetros opcionais"
      ]
    },
    {
      "cell_type": "code",
      "metadata": {
        "id": "Oqa8edffPWTR"
      },
      "source": [
        "def soma3(x = 0, y = 0, z = 0):\n",
        "  res = x + y + z\n",
        "  print(res)"
      ],
      "execution_count": null,
      "outputs": []
    },
    {
      "cell_type": "code",
      "metadata": {
        "colab": {
          "base_uri": "https://localhost:8080/"
        },
        "id": "bbHWN7KdPlCx",
        "outputId": "875c0917-77b7-43ef-b4cd-08f98b6c41ee"
      },
      "source": [
        "soma3(1,2,3)\n",
        "soma3(1,2) #z foi omitido\n",
        "soma3(1)   #y e z foram omitidos\n",
        "soma3()    # x, y e z foram omitidos"
      ],
      "execution_count": null,
      "outputs": [
        {
          "output_type": "stream",
          "name": "stdout",
          "text": [
            "6\n",
            "3\n",
            "1\n",
            "0\n"
          ]
        }
      ]
    },
    {
      "cell_type": "markdown",
      "metadata": {
        "id": "8VsfcD5nQ6xS"
      },
      "source": [
        "Exercício"
      ]
    },
    {
      "cell_type": "code",
      "metadata": {
        "colab": {
          "base_uri": "https://localhost:8080/"
        },
        "id": "zshnLFa0Q_G2",
        "outputId": "749535bd-55b2-4049-f9d7-9b16f289ed96"
      },
      "source": [
        "# Rotina que cria Uma borda ao redor de uma palavra\n",
        "def borda(s1):\n",
        "  tamanho = len(s1)\n",
        "  #só imprime caso exista algum caractere\n",
        "  if tamanho:\n",
        "    print('+','-' * tamanho,'+')\n",
        "    print('|',s1,'|')\n",
        "    print('+','-' * tamanho,'+')\n",
        "\n",
        "# Programa principal\n",
        "borda('Olá mundo!')\n",
        "borda('Lógica de programação e algoritmos')"
      ],
      "execution_count": null,
      "outputs": [
        {
          "output_type": "stream",
          "name": "stdout",
          "text": [
            "+ ---------- +\n",
            "| Olá mundo! |\n",
            "+ ---------- +\n",
            "+ ---------------------------------- +\n",
            "| Lógica de programação e algoritmos |\n",
            "+ ---------------------------------- +\n"
          ]
        }
      ]
    },
    {
      "cell_type": "markdown",
      "metadata": {
        "id": "cLL7Q9B7XElA"
      },
      "source": [
        "# 2. ESCOPO DE VARIÁVEIS"
      ]
    },
    {
      "cell_type": "code",
      "metadata": {
        "colab": {
          "base_uri": "https://localhost:8080/"
        },
        "id": "DhllrtW1XFlR",
        "outputId": "59997b06-1195-4d3a-cffb-ff9e5b8faf64"
      },
      "source": [
        "def comida():\n",
        "  ovos = 'variável local de comida'\n",
        "  print(ovos)\n",
        "\n",
        "def bacon():\n",
        "  ovos = 'variável local de bacon'\n",
        "  print(ovos)\n",
        "  comida()\n",
        "  print(ovos)\n",
        "\n",
        "# Programa principal\n",
        "ovos = 'variável global'\n",
        "bacon()\n",
        "print(ovos)"
      ],
      "execution_count": null,
      "outputs": [
        {
          "output_type": "stream",
          "name": "stdout",
          "text": [
            "variável local de bacon\n",
            "variável local de comida\n",
            "variável local de bacon\n",
            "variável global\n"
          ]
        }
      ]
    },
    {
      "cell_type": "markdown",
      "metadata": {
        "id": "mpOKVBfnrMAO"
      },
      "source": [
        "A instrução 'global'"
      ]
    },
    {
      "cell_type": "code",
      "metadata": {
        "colab": {
          "base_uri": "https://localhost:8080/"
        },
        "id": "TGs3wQyjrP4b",
        "outputId": "a0879678-f196-405d-87f3-bdf280b601eb"
      },
      "source": [
        "def comida():\n",
        "  global ovos \n",
        "  ovos = 'comida'\n",
        "\n",
        "# Programa principal\n",
        "ovos = 'global'\n",
        "comida()\n",
        "print(ovos)"
      ],
      "execution_count": null,
      "outputs": [
        {
          "output_type": "stream",
          "name": "stdout",
          "text": [
            "comida\n"
          ]
        }
      ]
    },
    {
      "cell_type": "markdown",
      "metadata": {
        "id": "VIGz_0O-sLXe"
      },
      "source": [
        "# 3. RETORNO DE VALORES EM FUNÇÕES"
      ]
    },
    {
      "cell_type": "code",
      "metadata": {
        "id": "ugpaGs6gsQV2"
      },
      "source": [
        "def soma3(x = 0, y = 0, z = 0):\n",
        "  res = x + y + z\n",
        "  return res"
      ],
      "execution_count": null,
      "outputs": []
    },
    {
      "cell_type": "code",
      "metadata": {
        "colab": {
          "base_uri": "https://localhost:8080/"
        },
        "id": "SkKigutZs9Lm",
        "outputId": "795e2f1e-4f0d-400e-e74c-2f9dea180ea6"
      },
      "source": [
        "# Programa principal\n",
        "retornado = soma3(1,2,3)\n",
        "print(retornado)\n",
        "\n",
        "# forma alternativa simplificada\n",
        "print(soma3(2,2))"
      ],
      "execution_count": null,
      "outputs": [
        {
          "output_type": "stream",
          "name": "stdout",
          "text": [
            "6\n",
            "4\n"
          ]
        }
      ]
    },
    {
      "cell_type": "code",
      "metadata": {
        "colab": {
          "base_uri": "https://localhost:8080/"
        },
        "id": "uv8WAAQ0tXMt",
        "outputId": "20451344-9d13-4293-b00a-2ad95e94b4ff"
      },
      "source": [
        "# Programa principal\n",
        "retornado1 = soma3(1,2,3)\n",
        "retornado2 = soma3(1,2)\n",
        "retornado3 = soma3()\n",
        "print('Somatórios: {}, {} e {}.'.format(retornado1, retornado2, retornado3))"
      ],
      "execution_count": null,
      "outputs": [
        {
          "output_type": "stream",
          "name": "stdout",
          "text": [
            "Somatórios: 6, 3 e 0.\n"
          ]
        }
      ]
    },
    {
      "cell_type": "markdown",
      "metadata": {
        "id": "sz8ol9c6t17K"
      },
      "source": [
        "Exercício"
      ]
    },
    {
      "cell_type": "code",
      "metadata": {
        "colab": {
          "base_uri": "https://localhost:8080/"
        },
        "id": "QgfJSH5tt3WU",
        "outputId": "1cff9e26-5421-4736-d1cb-e1617dcd6653"
      },
      "source": [
        "# Escrever uma função para validar uma string.\n",
        "# Essa função recebe como parâmetro a string,\n",
        "# o número mínimo e máximo de caracteres.\n",
        "# Retorne verdadeiro se o tamanho da string \n",
        "# estiver entre os valores de mínimo e máximo,\n",
        "# e falso, caso contrário (elaborado com base em\n",
        "# Menezes, s.d.)\n",
        "\n",
        "def valida_string(palavra, min, max):\n",
        "  tamanho = len(palavra)\n",
        "  if min < tamanho < max:\n",
        "    return True\n",
        "  return False\n",
        "\n",
        "valida_string('algoritmo', 5, 10)\n"
      ],
      "execution_count": null,
      "outputs": [
        {
          "output_type": "execute_result",
          "data": {
            "text/plain": [
              "True"
            ]
          },
          "metadata": {},
          "execution_count": 45
        }
      ]
    },
    {
      "cell_type": "markdown",
      "metadata": {
        "id": "C0sUyGiVxYYz"
      },
      "source": [
        "# 4. RECURSOS AVANÇADOS COM FUNÇÕES"
      ]
    },
    {
      "cell_type": "markdown",
      "metadata": {
        "id": "vxlFQOTvyMUX"
      },
      "source": [
        "Exceções e erros"
      ]
    },
    {
      "cell_type": "code",
      "metadata": {
        "colab": {
          "base_uri": "https://localhost:8080/",
          "height": 128
        },
        "id": "zvFyqYWlyUB9",
        "outputId": "5d257e52-5cca-4360-8453-11e59cfe37f2"
      },
      "source": [
        "# Erro de sintaxe\n",
        "while True\n",
        "  print('Hello world!')"
      ],
      "execution_count": null,
      "outputs": [
        {
          "output_type": "error",
          "ename": "SyntaxError",
          "evalue": "ignored",
          "traceback": [
            "\u001b[0;36m  File \u001b[0;32m\"<ipython-input-46-df28d26ca776>\"\u001b[0;36m, line \u001b[0;32m2\u001b[0m\n\u001b[0;31m    while True\u001b[0m\n\u001b[0m              ^\u001b[0m\n\u001b[0;31mSyntaxError\u001b[0m\u001b[0;31m:\u001b[0m invalid syntax\n"
          ]
        }
      ]
    },
    {
      "cell_type": "code",
      "metadata": {
        "colab": {
          "base_uri": "https://localhost:8080/",
          "height": 162
        },
        "id": "0P2DdTOUyl0Z",
        "outputId": "388e3aaa-101f-4936-8300-868f3ff0bd6a"
      },
      "source": [
        "100 * (2/0)"
      ],
      "execution_count": null,
      "outputs": [
        {
          "output_type": "error",
          "ename": "ZeroDivisionError",
          "evalue": "ignored",
          "traceback": [
            "\u001b[0;31m---------------------------------------------------------------------------\u001b[0m",
            "\u001b[0;31mZeroDivisionError\u001b[0m                         Traceback (most recent call last)",
            "\u001b[0;32m<ipython-input-47-4e7a140b10ca>\u001b[0m in \u001b[0;36m<module>\u001b[0;34m()\u001b[0m\n\u001b[0;32m----> 1\u001b[0;31m \u001b[0;36m100\u001b[0m \u001b[0;34m*\u001b[0m \u001b[0;34m(\u001b[0m\u001b[0;36m2\u001b[0m\u001b[0;34m/\u001b[0m\u001b[0;36m0\u001b[0m\u001b[0;34m)\u001b[0m\u001b[0;34m\u001b[0m\u001b[0;34m\u001b[0m\u001b[0m\n\u001b[0m",
            "\u001b[0;31mZeroDivisionError\u001b[0m: division by zero"
          ]
        }
      ]
    },
    {
      "cell_type": "code",
      "metadata": {
        "colab": {
          "base_uri": "https://localhost:8080/",
          "height": 178
        },
        "id": "w0kl88_00opD",
        "outputId": "bd5b3040-e54d-4a1f-98b8-aa840cca6276"
      },
      "source": [
        "x = int(input('Por favor digite um número: '))"
      ],
      "execution_count": null,
      "outputs": [
        {
          "name": "stdout",
          "output_type": "stream",
          "text": [
            "Por favor digite um número: Nirlan\n"
          ]
        },
        {
          "output_type": "error",
          "ename": "ValueError",
          "evalue": "ignored",
          "traceback": [
            "\u001b[0;31m---------------------------------------------------------------------------\u001b[0m",
            "\u001b[0;31mValueError\u001b[0m                                Traceback (most recent call last)",
            "\u001b[0;32m<ipython-input-48-7c0a6b59e0c9>\u001b[0m in \u001b[0;36m<module>\u001b[0;34m()\u001b[0m\n\u001b[0;32m----> 1\u001b[0;31m \u001b[0mx\u001b[0m \u001b[0;34m=\u001b[0m \u001b[0mint\u001b[0m\u001b[0;34m(\u001b[0m\u001b[0minput\u001b[0m\u001b[0;34m(\u001b[0m\u001b[0;34m'Por favor digite um número: '\u001b[0m\u001b[0;34m)\u001b[0m\u001b[0;34m)\u001b[0m\u001b[0;34m\u001b[0m\u001b[0;34m\u001b[0m\u001b[0m\n\u001b[0m",
            "\u001b[0;31mValueError\u001b[0m: invalid literal for int() with base 10: 'Nirlan'"
          ]
        }
      ]
    },
    {
      "cell_type": "code",
      "metadata": {
        "colab": {
          "base_uri": "https://localhost:8080/"
        },
        "id": "KwFCXcLa0xu2",
        "outputId": "9d4056a9-474d-49a0-f76b-dbe8020ca471"
      },
      "source": [
        "while True:\n",
        "  try:\n",
        "    x = int(input('Por favor digite um número: '))\n",
        "    break\n",
        "  except ValueError:\n",
        "    print('Oops! Número inválido. Tente novamente...')"
      ],
      "execution_count": null,
      "outputs": [
        {
          "name": "stdout",
          "output_type": "stream",
          "text": [
            "Por favor digite um número: Nirlan\n",
            "Oops! Número inválido. Tente novamente...\n",
            "Por favor digite um número: 10\n"
          ]
        }
      ]
    },
    {
      "cell_type": "code",
      "metadata": {
        "colab": {
          "base_uri": "https://localhost:8080/"
        },
        "id": "Ei_RIBWX1umh",
        "outputId": "18973b51-0d86-469d-e99c-0930bec1dc6f"
      },
      "source": [
        "def div():\n",
        "  while True:\n",
        "    try:\n",
        "      num1 = int(input('Digite um número: '))\n",
        "      num2 = int(input('Digite um número: '))\n",
        "      res = num1 / num2\n",
        "    except ZeroDivisionError:\n",
        "      print('Oops! Erro de divisão por zero...')\n",
        "    except:\n",
        "      print('Algo de errado aconteceu...')\n",
        "    else:\n",
        "      return res\n",
        "    finally:\n",
        "      print('Executará sempre!')\n",
        "  \n",
        "# Programa principal\n",
        "print(div())"
      ],
      "execution_count": null,
      "outputs": [
        {
          "output_type": "stream",
          "name": "stdout",
          "text": [
            "Digite um número: Nirlan\n",
            "Algo de errado aconteceu...\n",
            "Executará sempre!\n",
            "Digite um número: 10\n",
            "Digite um número: 0\n",
            "Oops! Erro de divisão por zero...\n",
            "Executará sempre!\n",
            "Digite um número: 10\n",
            "Digite um número: 2\n",
            "Executará sempre!\n",
            "5.0\n"
          ]
        }
      ]
    },
    {
      "cell_type": "markdown",
      "metadata": {
        "id": "Oync3WUc3rQl"
      },
      "source": [
        "Função como parâmetro de função"
      ]
    },
    {
      "cell_type": "code",
      "metadata": {
        "colab": {
          "base_uri": "https://localhost:8080/"
        },
        "id": "aqimMij23uEo",
        "outputId": "ad23e310-1c3b-4686-d0c5-3586a27b8e73"
      },
      "source": [
        "# imprime um número dado uma condição\n",
        "def imprime_com_condicao(num, fcond):\n",
        "  if fcond(num):\n",
        "    print(num)\n",
        "\n",
        "def par(x):\n",
        "  return x % 2 == 0\n",
        "def impar(x):\n",
        "  return not par(x)\n",
        "\n",
        "# Programa principal\n",
        "imprime_com_condicao(5, impar)"
      ],
      "execution_count": null,
      "outputs": [
        {
          "output_type": "stream",
          "name": "stdout",
          "text": [
            "5\n"
          ]
        }
      ]
    },
    {
      "cell_type": "markdown",
      "metadata": {
        "id": "dUpOFx8o45bc"
      },
      "source": [
        "Função lambda"
      ]
    },
    {
      "cell_type": "code",
      "metadata": {
        "colab": {
          "base_uri": "https://localhost:8080/"
        },
        "id": "8TFMRsfe47SO",
        "outputId": "0e37e671-4a61-4525-c720-53a57dc9630e"
      },
      "source": [
        "res = lambda x: x * x\n",
        "print(res(3))"
      ],
      "execution_count": null,
      "outputs": [
        {
          "output_type": "stream",
          "name": "stdout",
          "text": [
            "9\n"
          ]
        }
      ]
    },
    {
      "cell_type": "code",
      "metadata": {
        "colab": {
          "base_uri": "https://localhost:8080/"
        },
        "id": "d9YstgKk5kcf",
        "outputId": "0fc69bf1-bedf-46a0-c71e-bcc174a5f512"
      },
      "source": [
        "soma = lambda x, y: x + y\n",
        "print(soma(3, 5))"
      ],
      "execution_count": null,
      "outputs": [
        {
          "output_type": "stream",
          "name": "stdout",
          "text": [
            "8\n"
          ]
        }
      ]
    },
    {
      "cell_type": "markdown",
      "metadata": {
        "id": "cyQigLQKtfLw"
      },
      "source": [
        "# **AULA 6**"
      ]
    },
    {
      "cell_type": "markdown",
      "metadata": {
        "id": "7sKpQR42tleV"
      },
      "source": [
        "# 1. TUPLAS"
      ]
    },
    {
      "cell_type": "markdown",
      "metadata": {
        "id": "ZQxkdKLstr8S"
      },
      "source": [
        "Construindo e manipulando tuplas"
      ]
    },
    {
      "cell_type": "code",
      "metadata": {
        "colab": {
          "base_uri": "https://localhost:8080/"
        },
        "id": "BS1GcCFLtzhP",
        "outputId": "82124818-001a-40aa-8221-21bbbeaf2bc3"
      },
      "source": [
        "mochila = ('Machado', 'Camisa', 'Bacon', 'Abacate')\n",
        "print(mochila)"
      ],
      "execution_count": null,
      "outputs": [
        {
          "output_type": "stream",
          "name": "stdout",
          "text": [
            "('Machado', 'Camisa', 'Bacon', 'Abacate')\n"
          ]
        }
      ]
    },
    {
      "cell_type": "code",
      "metadata": {
        "colab": {
          "base_uri": "https://localhost:8080/"
        },
        "id": "3DOAdmfBt_ei",
        "outputId": "da8a3bd8-c141-4950-b891-04095ce53ac7"
      },
      "source": [
        "print(mochila[0])\n",
        "print(mochila[2])\n",
        "print(mochila[0:2])\n",
        "print(mochila[2:])\n",
        "print(mochila[-1])"
      ],
      "execution_count": null,
      "outputs": [
        {
          "output_type": "stream",
          "name": "stdout",
          "text": [
            "Machado\n",
            "Bacon\n",
            "('Machado', 'Camisa')\n",
            "('Bacon', 'Abacate')\n",
            "Abacate\n"
          ]
        }
      ]
    },
    {
      "cell_type": "code",
      "metadata": {
        "colab": {
          "base_uri": "https://localhost:8080/",
          "height": 162
        },
        "id": "51TSy8RSugTM",
        "outputId": "92b9f80f-9ce2-48f7-d617-b33a5672a265"
      },
      "source": [
        "mochila[2] = 'Ovos'"
      ],
      "execution_count": null,
      "outputs": [
        {
          "output_type": "error",
          "ename": "TypeError",
          "evalue": "ignored",
          "traceback": [
            "\u001b[0;31m---------------------------------------------------------------------------\u001b[0m",
            "\u001b[0;31mTypeError\u001b[0m                                 Traceback (most recent call last)",
            "\u001b[0;32m<ipython-input-7-10e5e4bdcd85>\u001b[0m in \u001b[0;36m<module>\u001b[0;34m()\u001b[0m\n\u001b[0;32m----> 1\u001b[0;31m \u001b[0mmochila\u001b[0m\u001b[0;34m[\u001b[0m\u001b[0;36m2\u001b[0m\u001b[0;34m]\u001b[0m \u001b[0;34m=\u001b[0m \u001b[0;34m'Ovos'\u001b[0m\u001b[0;34m\u001b[0m\u001b[0;34m\u001b[0m\u001b[0m\n\u001b[0m",
            "\u001b[0;31mTypeError\u001b[0m: 'tuple' object does not support item assignment"
          ]
        }
      ]
    },
    {
      "cell_type": "code",
      "metadata": {
        "colab": {
          "base_uri": "https://localhost:8080/"
        },
        "id": "RLiibF52u6of",
        "outputId": "202270de-23d8-480e-e61d-98941aaaa98a"
      },
      "source": [
        "for item in mochila:\n",
        "  print('Na minha mochila tem: {}'.format(item))"
      ],
      "execution_count": null,
      "outputs": [
        {
          "output_type": "stream",
          "name": "stdout",
          "text": [
            "Na minha mochila tem: Machado\n",
            "Na minha mochila tem: Camisa\n",
            "Na minha mochila tem: Bacon\n",
            "Na minha mochila tem: Abacate\n"
          ]
        }
      ]
    },
    {
      "cell_type": "code",
      "metadata": {
        "colab": {
          "base_uri": "https://localhost:8080/"
        },
        "id": "3Bfs-o7mvLNw",
        "outputId": "b0d81b1a-afb3-4cf9-b6c9-63cb2018420a"
      },
      "source": [
        "tam = len(mochila)\n",
        "for i in range(0, tam, 1):\n",
        "  print('Na minha mochila tem: {}'.format(mochila[i]))"
      ],
      "execution_count": null,
      "outputs": [
        {
          "output_type": "stream",
          "name": "stdout",
          "text": [
            "Na minha mochila tem: Machado\n",
            "Na minha mochila tem: Camisa\n",
            "Na minha mochila tem: Bacon\n",
            "Na minha mochila tem: Abacate\n"
          ]
        }
      ]
    },
    {
      "cell_type": "code",
      "metadata": {
        "colab": {
          "base_uri": "https://localhost:8080/"
        },
        "id": "xCA4Q_xFvioA",
        "outputId": "b17dd501-fe88-4209-929a-8476a66cee78"
      },
      "source": [
        "mochila = ('Machado', 'Camisa', 'Bacon', 'Abacate')\n",
        "upgrade = ('Queijo', 'Canivete')\n",
        "mochila_grande = mochila + upgrade\n",
        "\n",
        "print(mochila)\n",
        "print(upgrade)\n",
        "print(mochila_grande)"
      ],
      "execution_count": null,
      "outputs": [
        {
          "output_type": "stream",
          "name": "stdout",
          "text": [
            "('Machado', 'Camisa', 'Bacon', 'Abacate')\n",
            "('Queijo', 'Canivete')\n",
            "('Machado', 'Camisa', 'Bacon', 'Abacate', 'Queijo', 'Canivete')\n"
          ]
        }
      ]
    },
    {
      "cell_type": "code",
      "metadata": {
        "colab": {
          "base_uri": "https://localhost:8080/"
        },
        "id": "Kp0avJYqwEcc",
        "outputId": "5229d592-0b5c-443b-a1c6-3fcbe1f6f4a0"
      },
      "source": [
        "mochila_grande_invertida = upgrade + mochila\n",
        "print(mochila_grande)\n",
        "print(mochila_grande_invertida)"
      ],
      "execution_count": null,
      "outputs": [
        {
          "output_type": "stream",
          "name": "stdout",
          "text": [
            "('Machado', 'Camisa', 'Bacon', 'Abacate', 'Queijo', 'Canivete')\n",
            "('Queijo', 'Canivete', 'Machado', 'Camisa', 'Bacon', 'Abacate')\n"
          ]
        }
      ]
    },
    {
      "cell_type": "markdown",
      "metadata": {
        "id": "IbLnSSJZfFmy"
      },
      "source": [
        "Desempacotamento de parâmetros em funções"
      ]
    },
    {
      "cell_type": "code",
      "metadata": {
        "colab": {
          "base_uri": "https://localhost:8080/"
        },
        "id": "RskydsKxfI5A",
        "outputId": "0e4f7a61-a2e1-4ca5-e9a0-543db8c57ddc"
      },
      "source": [
        "def soma(*num):\n",
        "  soma = 0\n",
        "  print('Tupla: {}'.format(num))\n",
        "  for i in num:\n",
        "    soma += i\n",
        "  return soma\n",
        "\n",
        "# Programa principal\n",
        "print('Resultado: {}\\n'.format(soma(1,2)))\n",
        "print('Resultado: {}\\n'.format(soma(1,2,3,4,5,6,7,8,9)))"
      ],
      "execution_count": null,
      "outputs": [
        {
          "output_type": "stream",
          "name": "stdout",
          "text": [
            "Tupla: (1, 2)\n",
            "Resultado: 3\n",
            "\n",
            "Tupla: (1, 2, 3, 4, 5, 6, 7, 8, 9)\n",
            "Resultado: 45\n",
            "\n"
          ]
        }
      ]
    },
    {
      "cell_type": "markdown",
      "metadata": {
        "id": "UNPr05ANsuHC"
      },
      "source": [
        "# 2. LISTAS"
      ]
    },
    {
      "cell_type": "code",
      "metadata": {
        "colab": {
          "base_uri": "https://localhost:8080/"
        },
        "id": "1BIivnoEs0pz",
        "outputId": "0b0ecedd-d336-4560-d17e-9261d70c604f"
      },
      "source": [
        "mochila = ('Machado', 'Camisa', 'Bacon', 'Abacate')\n",
        "print('Tupla: ', mochila)\n",
        "mochila = ['Machado', 'Camisa', 'Bacon', 'Abacate']\n",
        "print('Lista: ', mochila)"
      ],
      "execution_count": null,
      "outputs": [
        {
          "output_type": "stream",
          "name": "stdout",
          "text": [
            "Tupla:  ('Machado', 'Camisa', 'Bacon', 'Abacate')\n",
            "Lista:  ['Machado', 'Camisa', 'Bacon', 'Abacate']\n"
          ]
        }
      ]
    },
    {
      "cell_type": "code",
      "metadata": {
        "colab": {
          "base_uri": "https://localhost:8080/"
        },
        "id": "RoUv5LV0tak9",
        "outputId": "09b046e2-f1d7-4067-8fe4-f7fe13f32bd6"
      },
      "source": [
        "mochila[2] = 'Laranja'\n",
        "print('Lista: ', mochila)"
      ],
      "execution_count": null,
      "outputs": [
        {
          "output_type": "stream",
          "name": "stdout",
          "text": [
            "Lista:  ['Machado', 'Camisa', 'Laranja', 'Abacate']\n"
          ]
        }
      ]
    },
    {
      "cell_type": "markdown",
      "metadata": {
        "id": "GqA3r_oltow-"
      },
      "source": [
        "Manipulando listas"
      ]
    },
    {
      "cell_type": "code",
      "metadata": {
        "colab": {
          "base_uri": "https://localhost:8080/"
        },
        "id": "fKmK9rgUtrcB",
        "outputId": "1e3c9fb5-1ba9-4a2f-f362-52b002a5e8e0"
      },
      "source": [
        "mochila.append('Ovos')\n",
        "print('Lista: ', mochila)"
      ],
      "execution_count": null,
      "outputs": [
        {
          "output_type": "stream",
          "name": "stdout",
          "text": [
            "Lista:  ['Machado', 'Camisa', 'Laranja', 'Abacate', 'Ovos']\n"
          ]
        }
      ]
    },
    {
      "cell_type": "code",
      "metadata": {
        "colab": {
          "base_uri": "https://localhost:8080/"
        },
        "id": "ckF45q9Mt35m",
        "outputId": "8b9e2ddd-a60a-470e-df60-1e7b5c1465d7"
      },
      "source": [
        "mochila.insert(1,'Canivete')\n",
        "print('Lista: ', mochila)"
      ],
      "execution_count": null,
      "outputs": [
        {
          "output_type": "stream",
          "name": "stdout",
          "text": [
            "Lista:  ['Machado', 'Canivete', 'Camisa', 'Laranja', 'Abacate', 'Ovos']\n"
          ]
        }
      ]
    },
    {
      "cell_type": "code",
      "metadata": {
        "colab": {
          "base_uri": "https://localhost:8080/"
        },
        "id": "Dm7ITfdUuHIg",
        "outputId": "56859680-945e-4eca-870d-19a6e86b1df3"
      },
      "source": [
        "del mochila[1]\n",
        "print('Lista: ', mochila)\n",
        "mochila.remove('Ovos')\n",
        "print('Lista: ', mochila)"
      ],
      "execution_count": null,
      "outputs": [
        {
          "output_type": "stream",
          "name": "stdout",
          "text": [
            "Lista:  ['Machado', 'Camisa', 'Laranja', 'Abacate', 'Ovos']\n",
            "Lista:  ['Machado', 'Camisa', 'Laranja', 'Abacate']\n"
          ]
        }
      ]
    },
    {
      "cell_type": "markdown",
      "metadata": {
        "id": "rjIXmx9fuloI"
      },
      "source": [
        "Cópias de listas"
      ]
    },
    {
      "cell_type": "code",
      "metadata": {
        "colab": {
          "base_uri": "https://localhost:8080/"
        },
        "id": "T58y1J-8up3z",
        "outputId": "e7ec7e04-be40-42bb-b9e8-ed2e70deb0d7"
      },
      "source": [
        "# Mesma referência\n",
        "x = [5, 7, 9, 11]\n",
        "y = x\n",
        "print(x)\n",
        "print(y)"
      ],
      "execution_count": null,
      "outputs": [
        {
          "output_type": "stream",
          "name": "stdout",
          "text": [
            "[5, 7, 9, 11]\n",
            "[5, 7, 9, 11]\n"
          ]
        }
      ]
    },
    {
      "cell_type": "code",
      "metadata": {
        "colab": {
          "base_uri": "https://localhost:8080/"
        },
        "id": "h1D6FUrauz8j",
        "outputId": "a08cc61a-8c13-4b56-9057-da96bbfbe7c4"
      },
      "source": [
        "y[0] = 2\n",
        "print(x)\n",
        "print(y)"
      ],
      "execution_count": null,
      "outputs": [
        {
          "output_type": "stream",
          "name": "stdout",
          "text": [
            "[2, 7, 9, 11]\n",
            "[2, 7, 9, 11]\n"
          ]
        }
      ]
    },
    {
      "cell_type": "code",
      "metadata": {
        "colab": {
          "base_uri": "https://localhost:8080/"
        },
        "id": "OP2DnLfhvPsT",
        "outputId": "02c3d029-58fa-4774-f567-371b436c41a7"
      },
      "source": [
        "# Cópia\n",
        "x = [5, 7, 9, 11]\n",
        "y = x[:]\n",
        "print(x)\n",
        "print(y)"
      ],
      "execution_count": null,
      "outputs": [
        {
          "output_type": "stream",
          "name": "stdout",
          "text": [
            "[5, 7, 9, 11]\n",
            "[5, 7, 9, 11]\n"
          ]
        }
      ]
    },
    {
      "cell_type": "code",
      "metadata": {
        "colab": {
          "base_uri": "https://localhost:8080/"
        },
        "id": "nBv17G46vac7",
        "outputId": "b996adaf-c43a-415d-9821-5ff4b7f843a7"
      },
      "source": [
        "y[0] = 2\n",
        "print(x)\n",
        "print(y)"
      ],
      "execution_count": null,
      "outputs": [
        {
          "output_type": "stream",
          "name": "stdout",
          "text": [
            "[5, 7, 9, 11]\n",
            "[2, 7, 9, 11]\n"
          ]
        }
      ]
    },
    {
      "cell_type": "markdown",
      "metadata": {
        "id": "8BAKmYvF0V2k"
      },
      "source": [
        "# 3. STRINGS E LISTAS DENTRO DE LISTAS"
      ]
    },
    {
      "cell_type": "code",
      "metadata": {
        "colab": {
          "base_uri": "https://localhost:8080/"
        },
        "id": "kE2LwB1M0dLQ",
        "outputId": "1c7179d1-14a5-4f1b-cf6d-181ec67bb126"
      },
      "source": [
        "mochila = ['Machado', 'Camisa', 'Bacon', 'Abacate']\n",
        "print(mochila[0])"
      ],
      "execution_count": 1,
      "outputs": [
        {
          "output_type": "stream",
          "name": "stdout",
          "text": [
            "Machado\n"
          ]
        }
      ]
    },
    {
      "cell_type": "code",
      "metadata": {
        "colab": {
          "base_uri": "https://localhost:8080/"
        },
        "id": "ZUuuqBcK0ojW",
        "outputId": "33566bfe-e74e-4b71-859d-dda37b445f79"
      },
      "source": [
        "mochila = ['Machado', 'Camisa', 'Bacon', 'Abacate']\n",
        "print(mochila[0][0])\n",
        "print(mochila[2][1])"
      ],
      "execution_count": 2,
      "outputs": [
        {
          "output_type": "stream",
          "name": "stdout",
          "text": [
            "M\n",
            "a\n"
          ]
        }
      ]
    },
    {
      "cell_type": "code",
      "metadata": {
        "colab": {
          "base_uri": "https://localhost:8080/"
        },
        "id": "zmDrxleo0318",
        "outputId": "809439a0-78ca-4a7f-db28-1f47d08bc10d"
      },
      "source": [
        "mochila = ['Machado', 'Camisa', 'Bacon', 'Abacate']\n",
        "for item in mochila:\n",
        "  for letra in item:\n",
        "    print(letra, end='')\n",
        "  print()"
      ],
      "execution_count": 3,
      "outputs": [
        {
          "output_type": "stream",
          "name": "stdout",
          "text": [
            "Machado\n",
            "Camisa\n",
            "Bacon\n",
            "Abacate\n"
          ]
        }
      ]
    },
    {
      "cell_type": "code",
      "metadata": {
        "colab": {
          "base_uri": "https://localhost:8080/"
        },
        "id": "V5Rq0Sqy1t6s",
        "outputId": "4ead604d-e9f2-4d16-bedc-1f77d7c6830e"
      },
      "source": [
        "mochila = ['Machado', 'Camisa', 'Bacon', 'Abacate']\n",
        "for i in range(0,len(mochila),1):\n",
        "  for j in range(0,len(mochila[i]),1):\n",
        "    print(mochila[i][j], end='')\n",
        "  print()"
      ],
      "execution_count": 5,
      "outputs": [
        {
          "output_type": "stream",
          "name": "stdout",
          "text": [
            "Machado\n",
            "Camisa\n",
            "Bacon\n",
            "Abacate\n"
          ]
        }
      ]
    },
    {
      "cell_type": "markdown",
      "metadata": {
        "id": "iANB0d9B2Lx0"
      },
      "source": [
        "Voltando..."
      ]
    },
    {
      "cell_type": "code",
      "metadata": {
        "colab": {
          "base_uri": "https://localhost:8080/"
        },
        "id": "ctNj7FaJ2N1n",
        "outputId": "58729d8f-a218-4bc7-a834-b2bc7b5ce798"
      },
      "source": [
        "# Imagine uma situação na qual você deve realizar o cadastro de uma lista de\n",
        "# compras em um sistema. Cada produto comprado deverá ser registrado com seu \n",
        "# nome, quantidade e valor unitário.\n",
        "\n",
        "item = []\n",
        "mercado = []\n",
        "\n",
        "for i in range(3):\n",
        "  item.append(input('Digite o nome do item:'))\n",
        "  item.append(int(input('Digite a quantidade:')))\n",
        "  item.append(float(input('Digite o valor:')))\n",
        "  mercado.append(item[:]) # PASSAGEM DA LISTA 'item' POR CÓPIA!\n",
        "  item.clear()\n",
        "print(mercado)"
      ],
      "execution_count": 9,
      "outputs": [
        {
          "output_type": "stream",
          "name": "stdout",
          "text": [
            "Digite o nome do item:Cebola\n",
            "Digite a quantidade:2\n",
            "Digite o valor:0.58\n",
            "Digite o nome do item:Tomate\n",
            "Digite a quantidade:3\n",
            "Digite o valor:0.48\n",
            "Digite o nome do item:Alface\n",
            "Digite a quantidade:1\n",
            "Digite o valor:2.0\n",
            "[['Cebola', 2, 0.58], ['Tomate', 3, 0.48], ['Alface', 1, 2.0]]\n"
          ]
        }
      ]
    },
    {
      "cell_type": "code",
      "metadata": {
        "colab": {
          "base_uri": "https://localhost:8080/"
        },
        "id": "WsCHAX6x6kAP",
        "outputId": "8adb2df8-a152-4ca3-b0d8-0beea7a9fe6b"
      },
      "source": [
        "mercado = []\n",
        "\n",
        "for i in range(3):\n",
        "  nome = input('Digite o nome do item:')\n",
        "  qtd = int(input('Digite a quantidade:'))\n",
        "  valor = float(input('Digite o valor'))\n",
        "  mercado.append([nome, qtd, valor])\n",
        "print(mercado)"
      ],
      "execution_count": 12,
      "outputs": [
        {
          "output_type": "stream",
          "name": "stdout",
          "text": [
            "Digite o nome do item:Cebola\n",
            "Digite a quantidade:2\n",
            "Digite o valor0.58\n",
            "Digite o nome do item:Tomate\n",
            "Digite a quantidade:3\n",
            "Digite o valor0.48\n",
            "Digite o nome do item:Alface\n",
            "Digite a quantidade:1\n",
            "Digite o valor2.0\n",
            "[['Cebola', 2, 0.58], ['Tomate', 3, 0.48], ['Alface', 1, 2.0]]\n"
          ]
        }
      ]
    },
    {
      "cell_type": "code",
      "metadata": {
        "colab": {
          "base_uri": "https://localhost:8080/"
        },
        "id": "Q1G06IaABw09",
        "outputId": "f0f95378-c7a7-484b-e0d9-a73a005ded4d"
      },
      "source": [
        "soma = 0\n",
        "print('Lista de compras:')\n",
        "print('-' * 20)\n",
        "print('item | quantidade | valor unitário | total do item')\n",
        "for item in mercado:\n",
        "  print('{} | {} | {:.2f} | {:.2f}'.format(item[0], item[1], item[2], item[1] * item[2]))\n",
        "  soma += item[1] * item[2]\n",
        "print('-' * 20)\n",
        "print('Total a ser pago: {:.2f}'.format(soma))"
      ],
      "execution_count": 18,
      "outputs": [
        {
          "output_type": "stream",
          "name": "stdout",
          "text": [
            "Lista de compras:\n",
            "--------------------\n",
            "item | quantidade | valor unitário | total do item\n",
            "Cebola | 2 | 0.58 | 1.16\n",
            "Tomate | 3 | 0.48 | 1.44\n",
            "Alface | 1 | 2.00 | 2.00\n",
            "--------------------\n",
            "Total a ser pago: 4.60\n"
          ]
        }
      ]
    }
  ]
}